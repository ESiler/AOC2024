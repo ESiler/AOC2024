{
 "cells": [
  {
   "cell_type": "code",
   "execution_count": 1,
   "id": "22a815b7",
   "metadata": {},
   "outputs": [],
   "source": [
    "#load packages\n",
    "import itertools"
   ]
  },
  {
   "cell_type": "code",
   "execution_count": 2,
   "id": "07cf2f7c",
   "metadata": {},
   "outputs": [],
   "source": [
    "#load data\n",
    "file = open(\"day7.txt\", \"r\")\n",
    "content=file.readlines()\n",
    "c = []\n",
    "for l in content:\n",
    "    x = l.strip()\n",
    "    x = x.split(sep=(': '))\n",
    "    x[0] = int(x[0])\n",
    "    x[1] = x[1].split(sep = ' ')\n",
    "    x[1] = [int(item) for item in x[1]]\n",
    "    c.append(x)"
   ]
  },
  {
   "cell_type": "code",
   "execution_count": 12,
   "id": "307b62e2",
   "metadata": {},
   "outputs": [],
   "source": [
    "#functions\n",
    "def mul(a,b):\n",
    "    return(a*b)\n",
    "\n",
    "def add(a,b):\n",
    "    return(a+b)\n",
    "\n",
    "def cat(a,b):\n",
    "    return(int(str(a)+str(b)))\n",
    "\n",
    "def check_can_equal(l, result, opps):\n",
    "    valid = False\n",
    "    n_opps = len(l) - 1 #number of operators in sequence\n",
    "    #make all combinations of possible operators\n",
    "    opp_combos = list(itertools.product(opps, repeat=n_opps))\n",
    "    for combo in opp_combos: #for each possible series of operators\n",
    "        if not valid: # if we haven't validated it yet\n",
    "            r = l[0]\n",
    "            for i, opp in enumerate(combo): #for each operator\n",
    "                #do operation\n",
    "                r = opp(r, l[(i+1)])\n",
    "            #check if result checks out\n",
    "            if result == r:\n",
    "                valid = True\n",
    "    return valid"
   ]
  },
  {
   "cell_type": "code",
   "execution_count": 16,
   "id": "82568c16",
   "metadata": {},
   "outputs": [
    {
     "name": "stdout",
     "output_type": "stream",
     "text": [
      "2437272016585\n"
     ]
    }
   ],
   "source": [
    "p1_total = 0\n",
    "for l in c:\n",
    "    if check_can_equal(l[1],l[0],[add,mul]):\n",
    "        p1_total += l[0]\n",
    "print(p1_total)"
   ]
  },
  {
   "cell_type": "code",
   "execution_count": 17,
   "id": "8f9cf73f",
   "metadata": {},
   "outputs": [
    {
     "name": "stdout",
     "output_type": "stream",
     "text": [
      "162987117690649\n"
     ]
    }
   ],
   "source": [
    "p2_total = 0\n",
    "for l in c:\n",
    "    if check_can_equal(l[1],l[0],[add,mul,cat]):\n",
    "        p2_total += l[0]\n",
    "print(p2_total)"
   ]
  }
 ],
 "metadata": {
  "kernelspec": {
   "display_name": "Python 3 (ipykernel)",
   "language": "python",
   "name": "python3"
  },
  "language_info": {
   "codemirror_mode": {
    "name": "ipython",
    "version": 3
   },
   "file_extension": ".py",
   "mimetype": "text/x-python",
   "name": "python",
   "nbconvert_exporter": "python",
   "pygments_lexer": "ipython3",
   "version": "3.8.10"
  }
 },
 "nbformat": 4,
 "nbformat_minor": 5
}
