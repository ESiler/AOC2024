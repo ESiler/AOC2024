{
 "cells": [
  {
   "cell_type": "code",
   "execution_count": 1,
   "id": "cfccd267",
   "metadata": {},
   "outputs": [],
   "source": [
    "import numpy as np\n",
    "import matplotlib.pyplot as plt"
   ]
  },
  {
   "cell_type": "code",
   "execution_count": 2,
   "id": "d3c61026",
   "metadata": {},
   "outputs": [],
   "source": [
    "#load map\n",
    "file = open(\"day6.txt\", \"r\")\n",
    "content=file.readlines()\n",
    "c = []\n",
    "for l in content:\n",
    "    c.append(l.strip())\n",
    "content_array = np.array([list(x) for x in c])"
   ]
  },
  {
   "cell_type": "code",
   "execution_count": 3,
   "id": "f53fc13f",
   "metadata": {},
   "outputs": [],
   "source": [
    "#functions to use later\n",
    "def locate_guard(m=content_array, guard='^'):\n",
    "    l = np.where(m==guard)\n",
    "    loc = l[0][0], l[1][0]\n",
    "    return loc\n",
    "\n",
    "def add_tup(x,y):\n",
    "    z0 = x[0] + y[0]\n",
    "    z1 = x[1] + y[1]\n",
    "    return(z0,z1)\n",
    "\n",
    "def turn_right(current_dir):\n",
    "    if current_dir == 'UP':\n",
    "        next_dir = 'RIGHT'\n",
    "    elif current_dir == 'RIGHT':\n",
    "        next_dir = 'DOWN'\n",
    "    elif current_dir == 'DOWN':\n",
    "        next_dir = 'LEFT'\n",
    "    elif current_dir == 'LEFT':\n",
    "        next_dir = 'UP'\n",
    "    else:\n",
    "        next_dir = None\n",
    "        print(\"direction not valid - must be UP, DOWN, LEFT, or RIGHT\")\n",
    "    return next_dir\n",
    "\n",
    "def is_in_bounds(tup, array):\n",
    "    in_bounds = True\n",
    "    x,y = tup[0], tup[1]\n",
    "    xlim,ylim = array.shape[0], array.shape[1]\n",
    "    if x < 0:\n",
    "        in_bounds = False\n",
    "    if y < 0:\n",
    "        in_bounds = False\n",
    "    if x >= xlim:\n",
    "        in_bounds = False\n",
    "    if y >= ylim:\n",
    "        in_bounds = False\n",
    "    return in_bounds"
   ]
  },
  {
   "cell_type": "code",
   "execution_count": 4,
   "id": "78e854e7",
   "metadata": {},
   "outputs": [],
   "source": [
    "class adventGuard:\n",
    "    dirdict = {'UP': (-1,0), \n",
    "               'DOWN': (1,0), \n",
    "               'LEFT':(0,-1), \n",
    "               'RIGHT':(0,1)}\n",
    "    def __init__(self):\n",
    "        self.themap = content_array.copy()\n",
    "        self.location = (94, 73) #locate_guard()\n",
    "        self.direction = 'UP'\n",
    "        self.guardpathmap = np.zeros(self.themap.shape)\n",
    "        self.guardpathmap[self.location] = 1\n",
    "        self.in_bounds = True\n",
    "        self.loopy = False\n",
    "        self.path = {(self.location, self.direction)}\n",
    "        \n",
    "    def take_step(self):\n",
    "        next_space = add_tup(self.location, self.dirdict[self.direction])\n",
    "        if is_in_bounds(next_space, self.themap):\n",
    "            if self.themap[next_space] == '.': #path is open\n",
    "                #go straight\n",
    "                self.location = next_space\n",
    "            elif self.themap[next_space] == '#': #path is blocked\n",
    "                self.direction = turn_right(self.direction)\n",
    "                self.location = add_tup(self.location, self.dirdict[self.direction])\n",
    "            self.guardpathmap[self.location] = 1 #mark guard location on math\n",
    "            step = (self.location, self.direction)\n",
    "            if step in self.path:\n",
    "                self.loopy = True\n",
    "            self.path.add((self.location, self.direction)) #track guard path\n",
    "        else:\n",
    "            self.in_bounds = False\n",
    "\n",
    "    def add_obstacle(self, x,y):\n",
    "        self.themap[x,y] = '#'"
   ]
  },
  {
   "cell_type": "code",
   "execution_count": 5,
   "id": "02ca4f84",
   "metadata": {},
   "outputs": [],
   "source": [
    "guard = adventGuard()\n",
    "#guard.add_obstacle(93,60)\n",
    "while guard.in_bounds and not guard.loopy:\n",
    "    guard.take_step()"
   ]
  },
  {
   "cell_type": "code",
   "execution_count": 6,
   "id": "c5a374db",
   "metadata": {},
   "outputs": [],
   "source": [
    "def show_guard_path(m):\n",
    "    plt.figure(figsize=(8,8))\n",
    "    plt.imshow(m, cmap='viridis', interpolation='nearest')\n",
    "    plt.show()"
   ]
  },
  {
   "cell_type": "code",
   "execution_count": 7,
   "id": "4673118c",
   "metadata": {},
   "outputs": [
    {
     "data": {
      "image/png": "[encoded data removed]",
      "text/plain": [
       "<Figure size 576x576 with 1 Axes>"
      ]
     },
     "metadata": {
      "needs_background": "light"
     },
     "output_type": "display_data"
    }
   ],
   "source": [
    "show_guard_path(guard.guardpathmap)\n",
    "guardpath = guard.path"
   ]
  },
  {
   "cell_type": "code",
   "execution_count": 8,
   "id": "9cea5e85",
   "metadata": {},
   "outputs": [
    {
     "name": "stdout",
     "output_type": "stream",
     "text": [
      "PART 1 ANSWER == 5242.0\n"
     ]
    }
   ],
   "source": [
    "print(\"PART 1 ANSWER ==\", sum(sum(guard.guardpathmap)))"
   ]
  },
  {
   "cell_type": "code",
   "execution_count": 9,
   "id": "a9c99437",
   "metadata": {},
   "outputs": [],
   "source": [
    "guardlocs = np.where(guard.guardpathmap==1)"
   ]
  },
  {
   "cell_type": "code",
   "execution_count": 10,
   "id": "5c346140",
   "metadata": {},
   "outputs": [
    {
     "data": {
      "text/plain": [
       "5242"
      ]
     },
     "execution_count": 10,
     "metadata": {},
     "output_type": "execute_result"
    }
   ],
   "source": [
    "len(guardlocs[0])"
   ]
  },
  {
   "cell_type": "code",
   "execution_count": 11,
   "id": "c9967749",
   "metadata": {},
   "outputs": [
    {
     "name": "stdout",
     "output_type": "stream",
     "text": [
      "Completed step 0\n",
      "Current Score: {'oob': 0, 'stuck_in_loop': 1}\n",
      "Completed step 500\n",
      "Current Score: {'oob': 367, 'stuck_in_loop': 134}\n",
      "Completed step 1000\n",
      "Current Score: {'oob': 734, 'stuck_in_loop': 267}\n",
      "Completed step 1500\n",
      "Current Score: {'oob': 1082, 'stuck_in_loop': 419}\n",
      "Completed step 2000\n",
      "Current Score: {'oob': 1450, 'stuck_in_loop': 551}\n",
      "Completed step 2500\n",
      "Current Score: {'oob': 1810, 'stuck_in_loop': 691}\n",
      "Completed step 3000\n",
      "Current Score: {'oob': 2189, 'stuck_in_loop': 812}\n",
      "Completed step 3500\n",
      "Current Score: {'oob': 2530, 'stuck_in_loop': 971}\n",
      "Completed step 4000\n",
      "Current Score: {'oob': 2907, 'stuck_in_loop': 1094}\n",
      "Completed step 4500\n",
      "Current Score: {'oob': 3243, 'stuck_in_loop': 1258}\n",
      "Completed step 5000\n",
      "Current Score: {'oob': 3582, 'stuck_in_loop': 1419}\n",
      "FINAL SCORE: {'oob': 3762, 'stuck_in_loop': 1480}\n"
     ]
    }
   ],
   "source": [
    "score = {'oob': 0, 'stuck_in_loop':0}\n",
    "\n",
    "for i in range(len(guardlocs[0])):\n",
    "    guard2 = adventGuard()\n",
    "    x = guardlocs[0][i]\n",
    "    y = guardlocs[1][i]\n",
    "    guard2.add_obstacle(x, y)\n",
    "    while guard2.in_bounds and not guard2.loopy:\n",
    "        guard2.take_step()\n",
    "    if not guard2.in_bounds:\n",
    "        score['oob'] = score['oob'] + 1\n",
    "    if guard2.loopy:\n",
    "        score['stuck_in_loop'] = score['stuck_in_loop'] + 1\n",
    "    if i % 500 == 0:\n",
    "        print(\"Completed step\", i)\n",
    "        print(\"Current Score:\", score)\n",
    "        #show_guard_path(guard2.guardpathmap)\n",
    "print('FINAL SCORE:', score)"
   ]
  },
  {
   "cell_type": "code",
   "execution_count": null,
   "id": "2955f7cb",
   "metadata": {},
   "outputs": [],
   "source": [
    "#Wrong answer -- FINAL SCORE: {'oob': 4165, 'stuck_in_loop': 1628}\n",
    "#Other wrong answer -- 1479 [ FINAL SCORE: {'oob': 3762, 'stuck_in_loop': 1480} ]"
   ]
  }
 ],
 "metadata": {
  "kernelspec": {
   "display_name": "Python 3 (ipykernel)",
   "language": "python",
   "name": "python3"
  },
  "language_info": {
   "codemirror_mode": {
    "name": "ipython",
    "version": 3
   },
   "file_extension": ".py",
   "mimetype": "text/x-python",
   "name": "python",
   "nbconvert_exporter": "python",
   "pygments_lexer": "ipython3",
   "version": "3.8.10"
  }
 },
 "nbformat": 4,
 "nbformat_minor": 5
}
